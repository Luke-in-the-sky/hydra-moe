{
 "cells": [
  {
   "cell_type": "code",
   "execution_count": null,
   "id": "initial_id",
   "metadata": {
    "collapsed": true,
    "is_executing": true
   },
   "outputs": [],
   "source": [
    "from data_utils import *\n",
    "import numpy as np\n",
    "from datasets import load_dataset, Dataset\n",
    "import pandas as pd"
   ]
  },
  {
   "cell_type": "markdown",
   "id": "c1ba515b9dfcb95d",
   "metadata": {
    "collapsed": false
   },
   "source": [
    "# Step 1: Define dataset names to be used"
   ]
  },
  {
   "cell_type": "code",
   "execution_count": 3,
   "id": "a811f1c8215dffcb",
   "metadata": {
    "ExecuteTime": {
     "end_time": "2023-08-22T05:44:51.105605Z",
     "start_time": "2023-08-22T05:44:51.103575Z"
    },
    "collapsed": false
   },
   "outputs": [],
   "source": [
    "dataset_names = [\n",
    "    # \"HydraLM/camel_society_standardized\",\n",
    "    # \"HydraLM/camel_code_standardized\",\n",
    "    # \"HydraLM/GPTeacher_toolformer_standardized\",\n",
    "    # \"HydraLM/GPTeacher_roleplay_standardized\",\n",
    "    # \"HydraLM/GPTeacher_codegen_standardized\",\n",
    "    # \"HydraLM/unnatural-instructions_standardized\",\n",
    "    # \"HydraLM/physics_dataset_standardized\",\n",
    "    # \"HydraLM/math_dataset_standardized\",\n",
    "    # \"HydraLM/chemistry_dataset_standardized\",\n",
    "    # \"HydraLM/biology_dataset_standardized\",\n",
    "    # \"HydraLM/airoboros-gpt4-1.4_standardized\",\n",
    "    # \"HydraLM/WizardLM_evol_instruct_V2_196k_standardized\",\n",
    "    # \"HydraLM/CodeAlpaca-20k_standardized\",\n",
    "    # \"HydraLM/GPT4-LLM-Cleaned_standardized\",\n",
    "    # \"HydraLM/GPTeacher-General-Instruct_standardized\",\n",
    "    # \"HydraLM/lima_standardized\",\n",
    "    # \"HydraLM/conala_standardized\",\n",
    "    # \"HydraLM/alpaca_data_cleaned_standardized\",\n",
    "    # \"HydraLM/riddle_sense_standardized\",\n",
    "    # \"HydraLM/gsm8k_standardized\",\n",
    "    # \"HydraLM/sciq_standardized\",\n",
    "    # \"HydraLM/share_gpt_vicuna_unfiltered_standardized\",\n",
    "    # \"HydraLM/wizard_vicuna_dataset_unfiltered_standardized\",\n",
    "    # \"HydraLM/science_qa_txt_only_standardized\",\n",
    "    # \"HydraLM/glaive_function_calling_v1_standardized\",\n",
    "    # \"HydraLM/puffin_standardized\",\n",
    "    # \"HydraLM/gorilla_16k_standardized\",\n",
    "    # \"HydraLM/goat_standardized\",\n",
    "    # \"HydraLM/wizard_evolinstruct70k_k4_standardized\",\n",
    "    # \"HydraLM/Open_Platypus_standardized\",\n",
    "    \"HydraLM/TheoremQA_standardized\",\n",
    "    \"HydraLM/code_instructions_122k_alpaca_style_standardized\",\n",
    "    \"HydraLM/databricks-dolly-15k_standardized\",\n",
    "]"
   ]
  },
  {
   "cell_type": "code",
   "execution_count": null,
   "id": "f5c5d5370d3ed468",
   "metadata": {
    "collapsed": false
   },
   "outputs": [],
   "source": []
  },
  {
   "cell_type": "markdown",
   "id": "68ce6e7cf8593eb1",
   "metadata": {
    "collapsed": false
   },
   "source": [
    "# Step 2: Load datasets"
   ]
  },
  {
   "cell_type": "code",
   "execution_count": 4,
   "id": "b04c1b0416d300fa",
   "metadata": {
    "ExecuteTime": {
     "end_time": "2023-08-22T05:44:57.954359Z",
     "start_time": "2023-08-22T05:44:54.970712Z"
    },
    "collapsed": false
   },
   "outputs": [],
   "source": [
    "datasets = {dataset_name: load_dataset(dataset_name) for dataset_name in dataset_names}"
   ]
  },
  {
   "cell_type": "markdown",
   "id": "3dd45a6195a744ac",
   "metadata": {
    "collapsed": false
   },
   "source": [
    "# Step 3: Combine datasets"
   ]
  },
  {
   "cell_type": "code",
   "execution_count": 5,
   "id": "3de141c24715c6da",
   "metadata": {
    "ExecuteTime": {
     "end_time": "2023-08-22T05:45:06.701655Z",
     "start_time": "2023-08-22T05:44:57.955383Z"
    },
    "collapsed": false
   },
   "outputs": [],
   "source": [
    "combined = combine_datasets(list(datasets.values()), list(datasets.keys()), add_unique_id=True)"
   ]
  },
  {
   "cell_type": "code",
   "execution_count": 11,
   "id": "a13f7c9fe9ab3538",
   "metadata": {
    "ExecuteTime": {
     "end_time": "2023-08-22T05:46:00.796041Z",
     "start_time": "2023-08-22T05:46:00.794293Z"
    },
    "collapsed": false
   },
   "outputs": [
    {
     "data": {
      "text/plain": [
       "137770"
      ]
     },
     "execution_count": 11,
     "metadata": {},
     "output_type": "execute_result"
    }
   ],
   "source": [
    "len(set(combined[\"unique_conversation_id\"]))"
   ]
  },
  {
   "cell_type": "code",
   "execution_count": 6,
   "id": "6a110a3d0e8fe5",
   "metadata": {
    "ExecuteTime": {
     "end_time": "2023-08-22T05:45:06.706303Z",
     "start_time": "2023-08-22T05:45:06.702076Z"
    },
    "collapsed": false
   },
   "outputs": [],
   "source": [
    "#TODO: filter out empty inputs and empty outputs(removing messages until previous output for multi-turn)"
   ]
  },
  {
   "cell_type": "markdown",
   "id": "e8ac7ea4ecf5b6e9",
   "metadata": {
    "collapsed": false
   },
   "source": [
    "# Step 4: Prepare for clustering, combine the text."
   ]
  },
  {
   "cell_type": "code",
   "execution_count": 8,
   "id": "d7e71053c742c59",
   "metadata": {
    "ExecuteTime": {
     "end_time": "2023-08-22T05:45:26.867523Z",
     "start_time": "2023-08-22T05:45:17.872057Z"
    },
    "collapsed": false
   },
   "outputs": [],
   "source": [
    "clustering_dataset = format(combined, cluster_template, split=None)"
   ]
  },
  {
   "cell_type": "code",
   "execution_count": 20,
   "id": "71d8f13a37736dce",
   "metadata": {
    "ExecuteTime": {
     "end_time": "2023-08-22T05:59:59.028885Z",
     "start_time": "2023-08-22T05:59:57.340648Z"
    },
    "collapsed": false
   },
   "outputs": [],
   "source": [
    "from embedding import BGE_Large\n",
    "embedding_model = BGE_Large()"
   ]
  },
  {
   "cell_type": "code",
   "execution_count": null,
   "id": "66f0e72d6f398760",
   "metadata": {
    "collapsed": false
   },
   "outputs": [],
   "source": [
    "\n",
    "clustering_dataset = clustering_dataset.map(lambda x: {\"embedding\": embedding_model.embed_text(x[\"text\"])})"
   ]
  }
 ],
 "metadata": {
  "kernelspec": {
   "display_name": "Python 3",
   "language": "python",
   "name": "python3"
  },
  "language_info": {
   "codemirror_mode": {
    "name": "ipython",
    "version": 2
   },
   "file_extension": ".py",
   "mimetype": "text/x-python",
   "name": "python",
   "nbconvert_exporter": "python",
   "pygments_lexer": "ipython2",
   "version": "2.7.6"
  }
 },
 "nbformat": 4,
 "nbformat_minor": 5
}
